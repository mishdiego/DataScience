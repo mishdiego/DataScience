{
 "cells": [
  {
   "cell_type": "markdown",
   "metadata": {},
   "source": [
    "# My Data Science Capstone Project"
   ]
  },
  {
   "cell_type": "markdown",
   "metadata": {},
   "source": [
    "<h2>Oaxacan Restaurant in Mexico City!</h2>\n",
    "Traditional Food and Mezcal"
   ]
  },
  {
   "cell_type": "markdown",
   "metadata": {},
   "source": [
    "The main idea in this project is to define the best place to establish an Oaxacan Restaurant in Mexico City.\n",
    "Oaxaca is a state located in the south of the country and traditionally has been characterized by its   cultural and gastronomic richness, which many visitors and tourists have been delighted during the to visit the Oaxaca City.\n",
    "Oaxaca has 8 geographical regions, most of these regions are populated by indigenous culture and they have developed clear differences among them in their traditions, dress, languages, and food.\n",
    "The restaurant will offer in the menu with five classical Oaxacan Food daily; but additionally, will also be available seasonal menu and it will change monthly. The seasonal menu will be a representative dish from one specific region.\n"
   ]
  },
  {
   "cell_type": "markdown",
   "metadata": {},
   "source": [
    "-------------------------------------------------------------------------"
   ]
  },
  {
   "cell_type": "markdown",
   "metadata": {},
   "source": [
    "Introduction/Business Problem"
   ]
  },
  {
   "cell_type": "code",
   "execution_count": 1,
   "metadata": {},
   "outputs": [
    {
     "name": "stdout",
     "output_type": "stream",
     "text": [
      "This is the first week of the Capstone Project\n"
     ]
    }
   ],
   "source": [
    "print('This is the first week of the Capstone Project')"
   ]
  },
  {
   "cell_type": "markdown",
   "metadata": {},
   "source": [
    "Describe the data that you will be using to solve the problem or execute your idea"
   ]
  },
  {
   "cell_type": "markdown",
   "metadata": {},
   "source": [
    "In order to develop analysis to make the best decision we have to analyze the geographical region in Mexico City; we have to choose the districts located in the center of city. We will start exploring the geographical zones and identify the types of establishments that there are in the goal zone, we will be focused on Traditional Oaxacan Restaurants using information from Foursquare API.\n",
    "We will search for information in the institutions and government offices like Secretary of Economy and National Institute of Statistics and Geographical information (INEGI) to identify the types of establishments and business created in the Mexico City, and this will be used as a complement of Foursquare’s information.\n"
   ]
  }
 ],
 "metadata": {
  "kernelspec": {
   "display_name": "Python 3",
   "language": "python",
   "name": "python3"
  },
  "language_info": {
   "codemirror_mode": {
    "name": "ipython",
    "version": 3
   },
   "file_extension": ".py",
   "mimetype": "text/x-python",
   "name": "python",
   "nbconvert_exporter": "python",
   "pygments_lexer": "ipython3",
   "version": "3.6.8"
  }
 },
 "nbformat": 4,
 "nbformat_minor": 2
}
